{
  "nbformat": 4,
  "nbformat_minor": 0,
  "metadata": {
    "accelerator": "GPU",
    "colab": {
      "name": "keras_mlp_fcn_resnet_time_series.ipynb",
      "provenance": []
    },
    "kernelspec": {
      "display_name": "Python 3",
      "language": "python",
      "name": "python3"
    },
    "language_info": {
      "codemirror_mode": {
        "name": "ipython",
        "version": 3
      },
      "file_extension": ".py",
      "mimetype": "text/x-python",
      "name": "python",
      "nbconvert_exporter": "python",
      "pygments_lexer": "ipython3",
      "version": "3.8.6"
    }
  },
  "cells": [
    {
      "cell_type": "code",
      "metadata": {
        "id": "pf5UZs7JWGxi"
      },
      "source": [
        "%matplotlib inline\n",
        "\n",
        "import numpy as np\n",
        "import pandas as pd\n",
        "import matplotlib.pyplot as plt\n",
        "\n",
        "# How to enable Colab GPUs https://colab.research.google.com/notebooks/gpu.ipynb\n",
        "# Select the Runtime > \"Change runtime type\" menu to enable a GPU accelerator,\n",
        "# and then re-execute this cell.\n",
        "if 'google.colab' in str(get_ipython()):\n",
        "    device_name = tf.test.gpu_device_name()\n",
        "    if device_name != '/device:GPU:0':\n",
        "        raise SystemError('GPU device not found')\n",
        "    print('Found GPU at: {}'.format(device_name))\n",
        "\n",
        "# Reduces variance in results but won't eliminate it :-(\n",
        "%env PYTHONHASHSEED=0\n",
        "import random\n",
        "random.seed(42)\n",
        "np.random.seed(42)\n",
        "tf.random.set_seed(42)"
      ],
      "execution_count": null,
      "outputs": []
    },
    {
      "cell_type": "markdown",
      "metadata": {
        "id": "DyCv2NuFWGxu"
      },
      "source": [
        "# Title\n",
        "\n",
        "Description ...\n",
        "\n",
        "Refer to previous work?\n",
        "\n",
        "\n",
        "## Import Data\n",
        "\n",
        "Data has been cleaned but may still have issues ..."
      ]
    },
    {
      "cell_type": "code",
      "metadata": {
        "id": "7FRhZV6QWGxx"
      },
      "source": [
        "if 'google.colab' in str(get_ipython()):\n",
        "    data_loc = \"https://github.com/makeyourownmaker/CambridgeTemperatureModel/blob/master/data/CamUKWeather.csv?raw=true\"\n",
        "else:\n",
        "    data_loc = \"../data/CamUKWeather.csv\"\n",
        "df = pd.read_csv(data_loc, parse_dates = True)\n",
        "\n",
        "df['ds'] = pd.to_datetime(df['ds'])\n",
        "\n",
        "print(\"Shape:\")\n",
        "print(df.shape)\n",
        "print(\"\\nInfo:\")\n",
        "print(df.info())\n",
        "print(\"\\nSummary stats:\")\n",
        "display(df.describe())\n",
        "print(\"\\nRaw data:\")\n",
        "df"
      ],
      "execution_count": null,
      "outputs": []
    },
    {
      "cell_type": "markdown",
      "metadata": {
        "id": "Wg7Z2LzpWGxz"
      },
      "source": [
        "\n",
        "\n",
        "---\n",
        "\n",
        "## Data Processing\n",
        "\n",
        "The data must be reformatted before ...\n",
        "\n",
        "The following steps are necessary:\n",
        " * Impute missing data where possible\n",
        " * Time conversion\n",
        " * Split data\n",
        " * Normalise data\n",
        " * ..."
      ]
    },
    {
      "cell_type": "code",
      "metadata": {
        "id": "yzA32Z8IWGxz"
      },
      "source": [
        ""
      ],
      "execution_count": null,
      "outputs": []
    },
    {
      "cell_type": "markdown",
      "metadata": {
        "id": "9Ax_DlA4WGyB"
      },
      "source": [
        "\n",
        "From the plots, its worth noting:\n",
        " * ...\n",
        "\n",
        "\n",
        "---\n",
        "\n",
        "\n",
        "## Conclusion\n",
        "\n",
        "Fortunately ...\n",
        "\n",
        "On an unrelated matter ...\n",
        "\n",
        "Future work:\n",
        " * ..."
      ]
    },
    {
      "cell_type": "markdown",
      "metadata": {
        "id": "_oSbcHtRWGyB"
      },
      "source": [
        "---\n",
        "\n",
        "## Metadata\n",
        "\n",
        "Python and Jupyter versions plus modules imported and their version strings. \n",
        "This is the poor man's python equivalent of R's sessionInfo().\n",
        "\n",
        "Code for imported modules and versions adapted from this stackoverflow answer. \n",
        "There are simpler alternatives, such as watermark, but they all require installation."
      ]
    },
    {
      "cell_type": "code",
      "metadata": {
        "id": "YI4Y0ramWGyC"
      },
      "source": [
        "import sys\n",
        "import IPython\n",
        "\n",
        "print(\"Python version:\")\n",
        "print(sys.executable)\n",
        "print(sys.version)\n",
        "print(\"\\nIPython version:\")\n",
        "print(IPython.__version__)"
      ],
      "execution_count": null,
      "outputs": []
    },
    {
      "cell_type": "code",
      "metadata": {
        "id": "sqT2k2JNWGyC"
      },
      "source": [
        "import pkg_resources\n",
        "import types\n",
        "\n",
        "def get_imports():\n",
        "    for name, val in globals().items():\n",
        "        if isinstance(val, types.ModuleType):\n",
        "            # Split ensures you get root package, \n",
        "            # not just imported function\n",
        "            name = val.__name__.split(\".\")[0]\n",
        "\n",
        "        elif isinstance(val, type):\n",
        "            name = val.__module__.split(\".\")[0]\n",
        "\n",
        "        # Some packages are weird and have different\n",
        "        # imported names vs. system/pip names.  Unfortunately,\n",
        "        # there is no systematic way to get pip names from\n",
        "        # a package's imported name.  You'll have to add\n",
        "        # exceptions to this list manually!\n",
        "        poorly_named_packages = {\n",
        "            \"PIL\":       \"Pillow\",\n",
        "            \"sklearn\":   \"scikit-learn\",\n",
        "        }\n",
        "        if name in poorly_named_packages.keys():\n",
        "            name = poorly_named_packages[name]\n",
        "\n",
        "        yield name\n",
        "\n",
        "imports = list(set(get_imports()))\n",
        "\n",
        "# The only way I found to get the version of the root package\n",
        "# from only the name of the package is to cross-check the names \n",
        "# of installed packages vs. imported packages\n",
        "requirements = []\n",
        "for m in pkg_resources.working_set:\n",
        "    if m.project_name in imports and m.project_name != \"pip\":\n",
        "        requirements.append((m.project_name, m.version))\n",
        "\n",
        "reqs = pd.DataFrame(requirements, columns = ['name', 'version'])\n",
        "print(\"Imported modules:\")\n",
        "reqs.style.hide_index()"
      ],
      "execution_count": null,
      "outputs": []
    },
    {
      "cell_type": "code",
      "metadata": {
        "id": "wpG3PS85rkOx",
        "outputId": "580cf919-644b-418f-c44c-b0659625b609",
        "colab": {
          "base_uri": "https://localhost:8080/"
        }
      },
      "source": [
        "!lscpu"
      ],
      "execution_count": 1,
      "outputs": [
        {
          "output_type": "stream",
          "text": [
            "Architecture:        x86_64\n",
            "CPU op-mode(s):      32-bit, 64-bit\n",
            "Byte Order:          Little Endian\n",
            "CPU(s):              2\n",
            "On-line CPU(s) list: 0,1\n",
            "Thread(s) per core:  2\n",
            "Core(s) per socket:  1\n",
            "Socket(s):           1\n",
            "NUMA node(s):        1\n",
            "Vendor ID:           GenuineIntel\n",
            "CPU family:          6\n",
            "Model:               63\n",
            "Model name:          Intel(R) Xeon(R) CPU @ 2.30GHz\n",
            "Stepping:            0\n",
            "CPU MHz:             2299.998\n",
            "BogoMIPS:            4599.99\n",
            "Hypervisor vendor:   KVM\n",
            "Virtualization type: full\n",
            "L1d cache:           32K\n",
            "L1i cache:           32K\n",
            "L2 cache:            256K\n",
            "L3 cache:            46080K\n",
            "NUMA node0 CPU(s):   0,1\n",
            "Flags:               fpu vme de pse tsc msr pae mce cx8 apic sep mtrr pge mca cmov pat pse36 clflush mmx fxsr sse sse2 ss ht syscall nx pdpe1gb rdtscp lm constant_tsc rep_good nopl xtopology nonstop_tsc cpuid tsc_known_freq pni pclmulqdq ssse3 fma cx16 pcid sse4_1 sse4_2 x2apic movbe popcnt aes xsave avx f16c rdrand hypervisor lahf_lm abm invpcid_single ssbd ibrs ibpb stibp fsgsbase tsc_adjust bmi1 avx2 smep bmi2 erms invpcid xsaveopt arat md_clear arch_capabilities\n"
          ],
          "name": "stdout"
        }
      ]
    },
    {
      "cell_type": "code",
      "metadata": {
        "id": "YBgujFalWGyD"
      },
      "source": [
        "!date"
      ],
      "execution_count": null,
      "outputs": []
    },
    {
      "cell_type": "markdown",
      "metadata": {
        "id": "xWXBP3PzWGyD"
      },
      "source": [
        "---\n",
        "\n",
        "\n",
        "## Archival\n",
        "\n",
        "Archive code, markdown, history and formatted notebooks.\n",
        "\n",
        "Assumes all pdf, html, latex etc dependencies are installed.\n",
        "\n",
        "**WARNING** Will overwrite existing files.\n",
        "\n",
        "Notebook name is hardcoded below because the alternative is ghastly globs of unreliable javascript or external ipython libraries I'd prefer to avoid installing :-("
      ]
    },
    {
      "cell_type": "code",
      "metadata": {
        "id": "UcGuysl1WGyE"
      },
      "source": [
        "from time import sleep\n",
        "\n",
        "notebook = \"keras_mlp_fcn_resnet_time_series.ipynb\"\n",
        "# !jupyter nbconvert --to script {notebook}\n",
        "# !jupyter nbconvert --execute --to html {notebook}\n",
        "# !jupyter nbconvert --execute --to pdf {notebook}\n",
        "# !jupyter nbconvert --to pdf {notebook}\n",
        "\n",
        "%rm history.txt\n",
        "%history -f history.txt\n",
        "\n",
        "!jupyter nbconvert --to python {notebook}\n",
        "sleep(5)\n",
        "!jupyter nbconvert --to markdown {notebook}\n",
        "sleep(5)\n",
        "!jupyter nbconvert --to html {notebook}"
      ],
      "execution_count": null,
      "outputs": []
    }
  ]
}